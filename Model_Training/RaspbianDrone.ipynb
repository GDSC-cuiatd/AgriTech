import picamera
import time
import numpy as np
from keras.models import load_model
import RPi.GPIO as GPIO
import socket
import cv2

# Load classification and segmentation models
classification_model = load_model('classification.h5')
segmentation_model = load_model('segmentation.h5')

# Define GPIO pin for spraying
SPRAY_PIN = 18

# Initialize GPIO
GPIO.setmode(GPIO.BCM)
GPIO.setup(SPRAY_PIN, GPIO.OUT)

def classify_image(image):
    # Preprocess image
    image = cv2.resize(image, (250, 250))
    image = image / 255.0
    image = np.expand_dims(image, axis=0)

    # Classify image
    prediction = classification_model.predict(image)[0][0]

    # Return classification result
    return prediction

def segment_image(image):
    # Preprocess image
    image = cv2.resize(image, (250, 250))
    image = image / 255.0
    image = np.expand_dims(image, axis=0)

    # Segment image
    segmented_image = segmentation_model.predict(image)[0]

    # Return segmented image
    return segmented_image

def main():
    try:
        # Create a socket to connect to the computer
        s = socket.socket(socket.AF_INET, socket.SOCK_STREAM)
        s.connect(('computer_ip', 12345))  # Replace 'computer_ip' with the actual IP address of the computer

        # Capture image from Pi camera
        with picamera.PiCamera() as camera:
            camera.resolution = (640, 480)
            time.sleep(2)  # Allow camera to warm up
            camera.capture('image.jpg')

        # Load captured image
        image = cv2.imread('image.jpg')

        # Classify image
        classification_result = classify_image(image)

        # Segment image
        segmented_image = segment_image(image)

        # Convert segmented image to RGB format
        segmented_image_rgb = cv2.cvtColor(segmented_image, cv2.COLOR_GRAY2RGB)

        # Send actual image to computer
        with open('image.jpg', 'rb') as f:
            image_data = f.read()
            s.send(image_data)

        # Send segmented image to computer
        with open('segmented_image.jpg', 'wb') as f:
            cv2.imwrite('segmented_image.jpg', segmented_image_rgb)
            segmented_image_data = f.read()
            s.send(segmented_image_data)

        # Determine plant status and take action
        if classification_result >= 0.5:  # Diseased plant
            GPIO.output(SPRAY_PIN, GPIO.HIGH)
            print("Plant is Diseased - Spraying...")
        else:  # Healthy plant
            GPIO.output(SPRAY_PIN, GPIO.LOW)
            print("Plant is Healthy")

    except Exception as e:
        print("Error:", e)

    finally:
        # Cleanup GPIO
        GPIO.cleanup()

if __name__ == "__main__":
    main()
